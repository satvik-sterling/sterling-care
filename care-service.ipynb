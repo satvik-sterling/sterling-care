{
 "cells": [
  {
   "cell_type": "code",
   "execution_count": 1,
   "id": "2e56edba",
   "metadata": {},
   "outputs": [
    {
     "name": "stdout",
     "output_type": "stream",
     "text": [
      "\n",
      "--- Caregiving Service Intake Form ---\n",
      "\n",
      "\n",
      "✅ Submission saved successfully!\n"
     ]
    }
   ],
   "source": [
    "import json\n",
    "from datetime import datetime\n",
    "from pathlib import Path\n",
    "\n",
    "# File to store user submissions\n",
    "data_file = Path(\"submissions.json\")\n",
    "\n",
    "# Load existing data if file exists\n",
    "if data_file.exists():\n",
    "    with open(data_file, \"r\") as f:\n",
    "        submissions = json.load(f)\n",
    "else:\n",
    "    submissions = []\n",
    "\n",
    "def prompt_user():\n",
    "    print(\"\\n--- Caregiving Service Intake Form ---\\n\")\n",
    "\n",
    "    entry = {\n",
    "        \"full_name\": input(\"1. Please enter your full name: \"),\n",
    "        \"phone\": input(\"2. Phone number (for booking communication): \"),\n",
    "        \"email\": input(\"3. Email address (optional): \"),\n",
    "        \"address\": input(\"4. Where will the service be provided? (area, city, specifics): \"),\n",
    "        \"service_for\": input(\"5. Who is this service for? (parent, grandparent, other): \"),\n",
    "        \"service_types\": input(\"6. Type of service needed (comma-separated):\\n   - Supervision\\n   - Companionship\\n   - Monitoring\\n   - Mobility help\\n   - Meals/snacks help\\n   - Medication reminders\\n   - Other\\nYour choices: \"),\n",
    "        \"preferred_timing\": input(\"7. Preferred service timing (e.g., 9 AM - 1 PM daily): \"),\n",
    "        \"start_date\": input(\"8. Start date (YYYY-MM-DD): \"),\n",
    "        \"duration\": input(\"9. Duration of service (one-time, few days, weekly, etc.): \"),\n",
    "        \"requirements\": input(\"10. Any specific requirements/preferences (medical, gender, language): \"),\n",
    "        \"referral_source\": input(\"11. How did you hear about us? (friend, social media, WhatsApp, other): \"),\n",
    "        \"contact_mode\": input(\"12. Preferred contact mode (Phone Call, WhatsApp, Either): \"),\n",
    "        \"submitted_at\": datetime.now().isoformat()\n",
    "    }\n",
    "\n",
    "    return entry\n",
    "\n",
    "# Collect and save\n",
    "new_entry = prompt_user()\n",
    "submissions.append(new_entry)\n",
    "\n",
    "with open(data_file, \"w\") as f:\n",
    "    json.dump(submissions, f, indent=2)\n",
    "\n",
    "print(\"\\n✅ Submission saved successfully!\")\n"
   ]
  },
  {
   "cell_type": "code",
   "execution_count": null,
   "id": "56c62a4d",
   "metadata": {},
   "outputs": [],
   "source": []
  }
 ],
 "metadata": {
  "kernelspec": {
   "display_name": ".venv",
   "language": "python",
   "name": "python3"
  },
  "language_info": {
   "codemirror_mode": {
    "name": "ipython",
    "version": 3
   },
   "file_extension": ".py",
   "mimetype": "text/x-python",
   "name": "python",
   "nbconvert_exporter": "python",
   "pygments_lexer": "ipython3",
   "version": "3.13.3"
  }
 },
 "nbformat": 4,
 "nbformat_minor": 5
}
